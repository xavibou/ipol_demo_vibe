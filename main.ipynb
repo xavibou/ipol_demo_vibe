{
 "cells": [
  {
   "cell_type": "raw",
   "id": "ee1718e6",
   "metadata": {},
   "source": [
    "---\n",
    "execute:\n",
    "    echo: false\n",
    "    warning: false\n",
    "    \n",
    "format:\n",
    "    html:\n",
    "        theme: \"theme_ipol.scss\"\n",
    "        self-contained: true\n",
    "---"
   ]
  },
  {
   "cell_type": "code",
   "execution_count": 2,
   "id": "248d644b",
   "metadata": {
    "tags": [
     "parameters"
    ]
   },
   "outputs": [],
   "source": [
    "# This cell contains the parameters. It should have the tag \"parameters\"\n",
    "SRCDIR = \".\"\n",
    "sample_num = 20\n",
    "radius = 20\n",
    "min_matches = 2\n",
    "update_factor = 16"
   ]
  },
  {
   "cell_type": "code",
   "execution_count": 3,
   "id": "700817b1",
   "metadata": {},
   "outputs": [],
   "source": [
    "# Input path for the image\n",
    "img_path = \"input_0.png\""
   ]
  },
  {
   "cell_type": "code",
   "execution_count": null,
   "id": "ad97d9e3",
   "metadata": {},
   "outputs": [],
   "source": []
  },
  {
   "cell_type": "code",
   "execution_count": null,
   "id": "13d353e2",
   "metadata": {},
   "outputs": [],
   "source": [
    "# standard imports\n",
    "import os\n",
    "import sys\n",
    "sys.path.append(SRCDIR)  # Will enable local code imports\n",
    "model_src = os.path.join(SRCDIR, '..')"
   ]
  }
 ],
 "metadata": {
  "kernelspec": {
   "display_name": "Python 3 (ipykernel)",
   "language": "python",
   "name": "python3"
  },
  "language_info": {
   "codemirror_mode": {
    "name": "ipython",
    "version": 3
   },
   "file_extension": ".py",
   "mimetype": "text/x-python",
   "name": "python",
   "nbconvert_exporter": "python",
   "pygments_lexer": "ipython3",
   "version": "3.9.11"
  }
 },
 "nbformat": 4,
 "nbformat_minor": 5
}
